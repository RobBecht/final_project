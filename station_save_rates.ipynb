{
 "cells": [
  {
   "cell_type": "code",
   "execution_count": 14,
   "metadata": {},
   "outputs": [],
   "source": [
    "import pandas as pd\n",
    "import numpy as np\n",
    "import matplotlib.pyplot as plt\n"
   ]
  },
  {
   "attachments": {},
   "cell_type": "markdown",
   "metadata": {},
   "source": [
    "Importing original data from csv files."
   ]
  },
  {
   "cell_type": "code",
   "execution_count": 15,
   "metadata": {},
   "outputs": [],
   "source": [
    "incidents = pd.read_csv(\"Louisville_Metro_KY_-_Fire_Incidents.csv\")\n",
    "\n",
    "prop_damage = pd.read_csv(\"Louisville_Metro_KY_-_Fire_Property_Damage.csv\")"
   ]
  },
  {
   "cell_type": "code",
   "execution_count": 16,
   "metadata": {},
   "outputs": [
    {
     "data": {
      "text/html": [
       "<div>\n",
       "<style scoped>\n",
       "    .dataframe tbody tr th:only-of-type {\n",
       "        vertical-align: middle;\n",
       "    }\n",
       "\n",
       "    .dataframe tbody tr th {\n",
       "        vertical-align: top;\n",
       "    }\n",
       "\n",
       "    .dataframe thead th {\n",
       "        text-align: right;\n",
       "    }\n",
       "</style>\n",
       "<table border=\"1\" class=\"dataframe\">\n",
       "  <thead>\n",
       "    <tr style=\"text-align: right;\">\n",
       "      <th></th>\n",
       "      <th>inci_no</th>\n",
       "      <th>Alm_Date</th>\n",
       "      <th>Address</th>\n",
       "      <th>Inci_type</th>\n",
       "      <th>Content_Loss</th>\n",
       "      <th>Property_Loss</th>\n",
       "      <th>Total_Loss</th>\n",
       "      <th>Pre_Inci_Value</th>\n",
       "      <th>Saved</th>\n",
       "      <th>ObjectId</th>\n",
       "    </tr>\n",
       "  </thead>\n",
       "  <tbody>\n",
       "    <tr>\n",
       "      <th>0</th>\n",
       "      <td>17-0000034</td>\n",
       "      <td>2017/01/01 05:00:00+00</td>\n",
       "      <td>1551 W ORMSBY Louisville KY 40210</td>\n",
       "      <td>100 - Fire, other</td>\n",
       "      <td>100.0</td>\n",
       "      <td>0.0</td>\n",
       "      <td>100</td>\n",
       "      <td>67320</td>\n",
       "      <td>67220</td>\n",
       "      <td>1</td>\n",
       "    </tr>\n",
       "    <tr>\n",
       "      <th>1</th>\n",
       "      <td>17-0000088</td>\n",
       "      <td>2017/01/01 05:00:00+00</td>\n",
       "      <td>1442 W SOUTHERN HEIGHTS Louisville KY 40215</td>\n",
       "      <td>441 - Heat from short circuit (wiring), defect...</td>\n",
       "      <td>100.0</td>\n",
       "      <td>NaN</td>\n",
       "      <td>100</td>\n",
       "      <td>65000</td>\n",
       "      <td>64900</td>\n",
       "      <td>2</td>\n",
       "    </tr>\n",
       "    <tr>\n",
       "      <th>2</th>\n",
       "      <td>17-0000222</td>\n",
       "      <td>2017/01/02 05:00:00+00</td>\n",
       "      <td>3012 S 5th Louisville KY 40208</td>\n",
       "      <td>111 - Building fire</td>\n",
       "      <td>8000.0</td>\n",
       "      <td>56040.0</td>\n",
       "      <td>64040</td>\n",
       "      <td>56040</td>\n",
       "      <td>-8000</td>\n",
       "      <td>3</td>\n",
       "    </tr>\n",
       "    <tr>\n",
       "      <th>3</th>\n",
       "      <td>17-0000192</td>\n",
       "      <td>2017/01/02 05:00:00+00</td>\n",
       "      <td>3320 Bank Louisville KY 40212</td>\n",
       "      <td>131 - Passenger vehicle fire</td>\n",
       "      <td>NaN</td>\n",
       "      <td>4500.0</td>\n",
       "      <td>4500</td>\n",
       "      <td>5000</td>\n",
       "      <td>500</td>\n",
       "      <td>4</td>\n",
       "    </tr>\n",
       "    <tr>\n",
       "      <th>4</th>\n",
       "      <td>17-0000222</td>\n",
       "      <td>2017/01/02 05:00:00+00</td>\n",
       "      <td>3012 S 5th Louisville KY 40208</td>\n",
       "      <td>111 - Building fire</td>\n",
       "      <td>0.0</td>\n",
       "      <td>61000.0</td>\n",
       "      <td>61000</td>\n",
       "      <td>61000</td>\n",
       "      <td>0</td>\n",
       "      <td>5</td>\n",
       "    </tr>\n",
       "  </tbody>\n",
       "</table>\n",
       "</div>"
      ],
      "text/plain": [
       "      inci_no                Alm_Date  \\\n",
       "0  17-0000034  2017/01/01 05:00:00+00   \n",
       "1  17-0000088  2017/01/01 05:00:00+00   \n",
       "2  17-0000222  2017/01/02 05:00:00+00   \n",
       "3  17-0000192  2017/01/02 05:00:00+00   \n",
       "4  17-0000222  2017/01/02 05:00:00+00   \n",
       "\n",
       "                                       Address  \\\n",
       "0            1551 W ORMSBY Louisville KY 40210   \n",
       "1  1442 W SOUTHERN HEIGHTS Louisville KY 40215   \n",
       "2               3012 S 5th Louisville KY 40208   \n",
       "3                3320 Bank Louisville KY 40212   \n",
       "4               3012 S 5th Louisville KY 40208   \n",
       "\n",
       "                                           Inci_type  Content_Loss  \\\n",
       "0                                  100 - Fire, other         100.0   \n",
       "1  441 - Heat from short circuit (wiring), defect...         100.0   \n",
       "2                                111 - Building fire        8000.0   \n",
       "3                       131 - Passenger vehicle fire           NaN   \n",
       "4                                111 - Building fire           0.0   \n",
       "\n",
       "   Property_Loss  Total_Loss  Pre_Inci_Value  Saved  ObjectId  \n",
       "0            0.0         100           67320  67220         1  \n",
       "1            NaN         100           65000  64900         2  \n",
       "2        56040.0       64040           56040  -8000         3  \n",
       "3         4500.0        4500            5000    500         4  \n",
       "4        61000.0       61000           61000      0         5  "
      ]
     },
     "execution_count": 16,
     "metadata": {},
     "output_type": "execute_result"
    }
   ],
   "source": [
    "prop_damage.head()"
   ]
  },
  {
   "attachments": {},
   "cell_type": "markdown",
   "metadata": {},
   "source": [
    "Joining the original data to form the working dataframe."
   ]
  },
  {
   "cell_type": "code",
   "execution_count": 17,
   "metadata": {},
   "outputs": [
    {
     "data": {
      "text/html": [
       "<div>\n",
       "<style scoped>\n",
       "    .dataframe tbody tr th:only-of-type {\n",
       "        vertical-align: middle;\n",
       "    }\n",
       "\n",
       "    .dataframe tbody tr th {\n",
       "        vertical-align: top;\n",
       "    }\n",
       "\n",
       "    .dataframe thead th {\n",
       "        text-align: right;\n",
       "    }\n",
       "</style>\n",
       "<table border=\"1\" class=\"dataframe\">\n",
       "  <thead>\n",
       "    <tr style=\"text-align: right;\">\n",
       "      <th></th>\n",
       "      <th>Inci_No</th>\n",
       "      <th>Station</th>\n",
       "      <th>Total_Loss</th>\n",
       "      <th>Saved</th>\n",
       "    </tr>\n",
       "  </thead>\n",
       "  <tbody>\n",
       "    <tr>\n",
       "      <th>0</th>\n",
       "      <td>17-0000034</td>\n",
       "      <td>Station 16</td>\n",
       "      <td>100</td>\n",
       "      <td>67220</td>\n",
       "    </tr>\n",
       "    <tr>\n",
       "      <th>1</th>\n",
       "      <td>17-0000088</td>\n",
       "      <td>Station 10</td>\n",
       "      <td>100</td>\n",
       "      <td>64900</td>\n",
       "    </tr>\n",
       "    <tr>\n",
       "      <th>2</th>\n",
       "      <td>17-0000222</td>\n",
       "      <td>Station 18</td>\n",
       "      <td>64040</td>\n",
       "      <td>-8000</td>\n",
       "    </tr>\n",
       "    <tr>\n",
       "      <th>3</th>\n",
       "      <td>17-0000192</td>\n",
       "      <td>Station 6</td>\n",
       "      <td>4500</td>\n",
       "      <td>500</td>\n",
       "    </tr>\n",
       "    <tr>\n",
       "      <th>4</th>\n",
       "      <td>17-0000455</td>\n",
       "      <td>Station 12</td>\n",
       "      <td>25000</td>\n",
       "      <td>365000</td>\n",
       "    </tr>\n",
       "  </tbody>\n",
       "</table>\n",
       "</div>"
      ],
      "text/plain": [
       "      Inci_No     Station  Total_Loss   Saved\n",
       "0  17-0000034  Station 16         100   67220\n",
       "1  17-0000088  Station 10         100   64900\n",
       "2  17-0000222  Station 18       64040   -8000\n",
       "3  17-0000192   Station 6        4500     500\n",
       "4  17-0000455  Station 12       25000  365000"
      ]
     },
     "execution_count": 17,
     "metadata": {},
     "output_type": "execute_result"
    }
   ],
   "source": [
    "merged_df = incidents.merge(prop_damage[['inci_no', 'Total_Loss', 'Saved']],\n",
    "                            how='inner',\n",
    "                            left_on='Inci_No',\n",
    "                            right_on='inci_no')[['Inci_No', 'Station', 'Total_Loss', 'Saved']]\n",
    "\n",
    "merged_df.drop_duplicates(subset=['Inci_No'], keep='first', inplace=True, ignore_index=True)\n",
    "merged_df.head()"
   ]
  },
  {
   "attachments": {},
   "cell_type": "markdown",
   "metadata": {},
   "source": [
    "Cleaning the merged dataframe"
   ]
  },
  {
   "cell_type": "code",
   "execution_count": 18,
   "metadata": {},
   "outputs": [
    {
     "data": {
      "text/html": [
       "<div>\n",
       "<style scoped>\n",
       "    .dataframe tbody tr th:only-of-type {\n",
       "        vertical-align: middle;\n",
       "    }\n",
       "\n",
       "    .dataframe tbody tr th {\n",
       "        vertical-align: top;\n",
       "    }\n",
       "\n",
       "    .dataframe thead th {\n",
       "        text-align: right;\n",
       "    }\n",
       "</style>\n",
       "<table border=\"1\" class=\"dataframe\">\n",
       "  <thead>\n",
       "    <tr style=\"text-align: right;\">\n",
       "      <th></th>\n",
       "      <th>Inci_No</th>\n",
       "      <th>Station</th>\n",
       "      <th>Total_Loss</th>\n",
       "      <th>Saved</th>\n",
       "    </tr>\n",
       "  </thead>\n",
       "  <tbody>\n",
       "    <tr>\n",
       "      <th>0</th>\n",
       "      <td>17-0000034</td>\n",
       "      <td>Station 16</td>\n",
       "      <td>100</td>\n",
       "      <td>67220</td>\n",
       "    </tr>\n",
       "    <tr>\n",
       "      <th>1</th>\n",
       "      <td>17-0000088</td>\n",
       "      <td>Station 10</td>\n",
       "      <td>100</td>\n",
       "      <td>64900</td>\n",
       "    </tr>\n",
       "    <tr>\n",
       "      <th>2</th>\n",
       "      <td>17-0000222</td>\n",
       "      <td>Station 18</td>\n",
       "      <td>64040</td>\n",
       "      <td>0</td>\n",
       "    </tr>\n",
       "    <tr>\n",
       "      <th>3</th>\n",
       "      <td>17-0000192</td>\n",
       "      <td>Station 6</td>\n",
       "      <td>4500</td>\n",
       "      <td>500</td>\n",
       "    </tr>\n",
       "    <tr>\n",
       "      <th>4</th>\n",
       "      <td>17-0000455</td>\n",
       "      <td>Station 12</td>\n",
       "      <td>25000</td>\n",
       "      <td>365000</td>\n",
       "    </tr>\n",
       "  </tbody>\n",
       "</table>\n",
       "</div>"
      ],
      "text/plain": [
       "      Inci_No     Station  Total_Loss   Saved\n",
       "0  17-0000034  Station 16         100   67220\n",
       "1  17-0000088  Station 10         100   64900\n",
       "2  17-0000222  Station 18       64040       0\n",
       "3  17-0000192   Station 6        4500     500\n",
       "4  17-0000455  Station 12       25000  365000"
      ]
     },
     "execution_count": 18,
     "metadata": {},
     "output_type": "execute_result"
    }
   ],
   "source": [
    "merged_df['Saved'] = merged_df['Saved'].astype(str)\n",
    "\n",
    "merged_df.loc[merged_df['Saved'].str.startswith('-'), 'Saved'] = '0'\n",
    "\n",
    "merged_df['Saved'] = pd.to_numeric(merged_df['Saved'])\n",
    "\n",
    "merged_df.head()"
   ]
  },
  {
   "attachments": {},
   "cell_type": "markdown",
   "metadata": {},
   "source": [
    "consider ordering by station"
   ]
  },
  {
   "cell_type": "code",
   "execution_count": 27,
   "metadata": {},
   "outputs": [
    {
     "data": {
      "image/png": "[encoded data removed]",
      "text/plain": [
       "<Figure size 640x480 with 1 Axes>"
      ]
     },
     "metadata": {},
     "output_type": "display_data"
    }
   ],
   "source": [
    "station_number = input(\"Enter the Station number 1 - 21: \")\n",
    "\n",
    "station_key = \"Station \" + station_number\n",
    "\n",
    "filtered_df = merged_df[merged_df['Station'] == station_key]\n",
    "\n",
    "total_property_saved = filtered_df['Saved'].sum()\n",
    "total_loss = filtered_df['Total_Loss'].sum()\n",
    "\n",
    "labels = ['Property Saved', 'Property Damaged']\n",
    "sizes = [total_property_saved, total_loss]\n",
    "colors = ['#1f77b4', '#ff7f0e']\n",
    "\n",
    "plt.pie(sizes, labels=labels, colors=colors, autopct='%1.1f%%', startangle=90)\n",
    "plt.axis('equal')\n",
    "plt.title(f\"Property Saved and Property Damage for Station {station_number}\")\n",
    "plt.show()"
   ]
  }
 ],
 "metadata": {
  "kernelspec": {
   "display_name": "Python 3",
   "language": "python",
   "name": "python3"
  },
  "language_info": {
   "codemirror_mode": {
    "name": "ipython",
    "version": 3
   },
   "file_extension": ".py",
   "mimetype": "text/x-python",
   "name": "python",
   "nbconvert_exporter": "python",
   "pygments_lexer": "ipython3",
   "version": "3.10.11"
  },
  "orig_nbformat": 4
 },
 "nbformat": 4,
 "nbformat_minor": 2
}
